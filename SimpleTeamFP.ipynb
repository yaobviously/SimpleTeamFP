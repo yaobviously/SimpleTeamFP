{
  "nbformat": 4,
  "nbformat_minor": 0,
  "metadata": {
    "colab": {
      "name": "SimpleTeamFP.ipynb",
      "provenance": [],
      "collapsed_sections": [],
      "mount_file_id": "1T10aE18TzqZvjErBltRbtva3QMsKHW_h",
      "authorship_tag": "ABX9TyPo3PnTO9O2qwfmNWtdhZhC",
      "include_colab_link": true
    },
    "kernelspec": {
      "name": "python3",
      "display_name": "Python 3"
    },
    "language_info": {
      "name": "python"
    }
  },
  "cells": [
    {
      "cell_type": "markdown",
      "metadata": {
        "id": "view-in-github",
        "colab_type": "text"
      },
      "source": [
        "<a href=\"https://colab.research.google.com/github/yaobviously/SimpleTeamFP/blob/main/SimpleTeamFP.ipynb\" target=\"_parent\"><img src=\"https://colab.research.google.com/assets/colab-badge.svg\" alt=\"Open In Colab\"/></a>"
      ]
    },
    {
      "cell_type": "code",
      "metadata": {
        "id": "w4KBlPPcH-rU"
      },
      "source": [
        "!pip install category_encoders"
      ],
      "execution_count": null,
      "outputs": []
    },
    {
      "cell_type": "code",
      "metadata": {
        "id": "_jhdyxLqILf0"
      },
      "source": [
        "import pandas as pd\n",
        "import numpy as np\n",
        "import matplotlib.pyplot as plt\n",
        "import seaborn as sns\n",
        "from sklearn.pipeline import make_pipeline\n",
        "from category_encoders import OneHotEncoder\n",
        "from sklearn.impute import SimpleImputer\n",
        "from sklearn.preprocessing import StandardScaler\n",
        "from sklearn.linear_model import LinearRegression\n",
        "from sklearn.linear_model import Ridge\n",
        "from sklearn.linear_model import BayesianRidge\n",
        "from sklearn.ensemble import RandomForestRegressor\n",
        "from sklearn.model_selection import RandomizedSearchCV\n",
        "from sklearn.metrics import mean_absolute_error"
      ],
      "execution_count": 28,
      "outputs": []
    },
    {
      "cell_type": "code",
      "metadata": {
        "id": "3nJ4L5QeIN4y"
      },
      "source": [
        "url = r'https://raw.githubusercontent.com/yaobviously/PlayerFPClassifier/main/Players2019.csv'"
      ],
      "execution_count": 13,
      "outputs": []
    },
    {
      "cell_type": "code",
      "metadata": {
        "id": "TFpyaIcgIUn1"
      },
      "source": [
        "def teamwrangle(file):\n",
        "    df = pd.read_csv(file,\n",
        "                     parse_dates = ['Date'],\n",
        "                     index_col = 'Date').sort_index()\n",
        "    \n",
        "    df.drop(columns = ['Unnamed: 0', 'Unnamed: 0.1', 'Unnamed: 0.1.1', \n",
        "                       'predFP', 'residual', 'PlayerID'],\n",
        "                        inplace = True)\n",
        "    \n",
        "    df.rename(columns = {'BIGDATABALL\\nDATASET' : 'Game_Type'}, inplace = True)\n",
        "    \n",
        "    df.columns = df.columns.str.lower()\n",
        "    \n",
        "    df = df[['game_type', 'team', 'opponent', 'teamfp', 'pace', 'closingspread',\n",
        "             'hora', 'teamvegas']].drop_duplicates()\n",
        "    \n",
        "    teamreg = df[df['game_type'] == 'NBA 2019-2020 Regular Season'].copy()\n",
        "    teamreg = teamreg.drop(columns = 'game_type')\n",
        "    \n",
        "    teamreg['hora'] = teamreg['hora'].map({'H' : 1, 'R' : 0})    \n",
        "    \n",
        "    # using expanding averages and shifting them and then computing a few deltas\n",
        "    # with respect to baselines\n",
        "    \n",
        "    teamreg['teamavgfp'] = teamreg.groupby('team')['teamfp'].transform(lambda x : x.expanding().mean().shift(1))\n",
        "    teamreg['team_veg_avg'] = teamreg.groupby('team')['teamvegas'].transform(lambda x: x.expanding().mean().shift(1))\n",
        "    teamreg['close_avg'] = teamreg.groupby('team')['closingspread'].transform(lambda x: x.expanding().mean().shift(1))\n",
        "    teamreg['teamfp_std'] = teamreg.groupby('team')['teamfp'].transform(lambda x: x.expanding().std().shift(1))\n",
        "    teamreg['vegas_delta'] = teamreg['teamvegas'] - teamreg['team_veg_avg']\n",
        "    teamreg['close_delta'] = teamreg['closingspread'] - teamreg['close_avg']\n",
        "   \n",
        "    teamreg['oppavgfp'] = teamreg.groupby('opponent')['teamfp'].transform(lambda x: x.expanding().mean().shift(1))\n",
        "    teamreg['opp_veg_avg'] = teamreg.groupby('opponent')['teamvegas'].transform(lambda x: x.expanding().mean().shift(1))\n",
        "    teamreg['opp_close_avg'] = teamreg.groupby('opponent')['closingspread'].transform(lambda x: x.expanding().mean().shift(1))\n",
        "    teamreg['oppteamfp_std'] = teamreg.groupby('opponent')['teamfp'].transform(lambda x: x.expanding().mean().shift(1))\n",
        "    \n",
        "    return teamreg"
      ],
      "execution_count": 33,
      "outputs": []
    },
    {
      "cell_type": "code",
      "metadata": {
        "id": "0RStvit9Ibox"
      },
      "source": [
        "df = teamwrangle(url)\n",
        "df['month'] = pd.DatetimeIndex(df.index).month"
      ],
      "execution_count": 34,
      "outputs": []
    },
    {
      "cell_type": "code",
      "metadata": {
        "colab": {
          "base_uri": "https://localhost:8080/"
        },
        "id": "KCYCgkmdLNHW",
        "outputId": "5dd6424b-8d95-4fdd-c66b-df5697fee02b"
      },
      "source": [
        "# Establishing a date cutoff to split the data into test and train\n",
        "\n",
        "date_threshold = '2019-12-31'\n",
        "date_mask = df.index < date_threshold\n",
        "\n",
        "features = ['hora', 'month', 'teamavgfp', 'teamfp_std', 'oppavgfp', 'oppteamfp_std', 'vegas_delta', 'close_delta']\n",
        "target = 'teamfp'\n",
        "\n",
        "X = df[features]\n",
        "y = df[target]\n",
        "\n",
        "X_train, y_train = X[date_mask], y[date_mask]\n",
        "X_test, y_test = X[~date_mask], y[~date_mask]\n",
        "\n",
        "\n",
        "dummy_model = [y_train.mean()] * len(y_train)\n",
        "dummy_MAE = mean_absolute_error(y_train, dummy_model)\n",
        "dummy_MAE"
      ],
      "execution_count": 35,
      "outputs": [
        {
          "output_type": "execute_result",
          "data": {
            "text/plain": [
              "18.25217465530697"
            ]
          },
          "metadata": {
            "tags": []
          },
          "execution_count": 35
        }
      ]
    },
    {
      "cell_type": "code",
      "metadata": {
        "colab": {
          "base_uri": "https://localhost:8080/"
        },
        "id": "Z2cJL38PLbfv",
        "outputId": "64cd7c98-355c-4133-fcae-254515f995eb"
      },
      "source": [
        "# building the first model\n",
        "\n",
        "simple_linear = make_pipeline(\n",
        "    SimpleImputer(strategy = 'mean'),\n",
        "    StandardScaler(),\n",
        "    LinearRegression()\n",
        "    )\n",
        "\n",
        "simple_linear.fit(X_train, y_train)\n",
        "\n",
        "simple_predict = simple_linear.predict(X_test)\n",
        "simple_linear_MAE = mean_absolute_error(y_test, simple_predict)\n",
        "simple_linear_MAE\n",
        "simple_linear.score(X_test, y_test)\n"
      ],
      "execution_count": 36,
      "outputs": [
        {
          "output_type": "execute_result",
          "data": {
            "text/plain": [
              "0.16255369317212887"
            ]
          },
          "metadata": {
            "tags": []
          },
          "execution_count": 36
        }
      ]
    },
    {
      "cell_type": "code",
      "metadata": {
        "colab": {
          "base_uri": "https://localhost:8080/"
        },
        "id": "jdVfLP5-LdEF",
        "outputId": "21f73170-c44f-4058-82a1-90e09c3acd0d"
      },
      "source": [
        "# building a ridge model\n",
        "\n",
        "ridge = make_pipeline(\n",
        "    \n",
        "    SimpleImputer(strategy = 'mean'),\n",
        "    StandardScaler(),\n",
        "    Ridge(alpha = 1)\n",
        "    )\n",
        "\n",
        "ridge.fit(X_train, y_train)\n",
        "\n",
        "ridge_predict = ridge.predict(X_test)\n",
        "ridge_linear_MAE = mean_absolute_error(y_test, simple_predict)\n",
        "\n",
        "ridge_linear_MAE"
      ],
      "execution_count": 37,
      "outputs": [
        {
          "output_type": "execute_result",
          "data": {
            "text/plain": [
              "16.25219536608497"
            ]
          },
          "metadata": {
            "tags": []
          },
          "execution_count": 37
        }
      ]
    },
    {
      "cell_type": "code",
      "metadata": {
        "colab": {
          "base_uri": "https://localhost:8080/",
          "height": 281
        },
        "id": "hu1Ha4pDLpFb",
        "outputId": "f6abaee0-604a-4903-c15c-8fa5017ccbda"
      },
      "source": [
        "# extracting the features from the ridge model\n",
        "\n",
        "coefficients = (ridge.named_steps['ridge'].coef_).ravel()\n",
        "features = X.columns  \n",
        "\n",
        "pd.Series(coefficients, index = features).sort_values(key = abs).plot.barh()\n",
        "plt.title('Feature Importance for the Ridge model');\n"
      ],
      "execution_count": 38,
      "outputs": [
        {
          "output_type": "display_data",
          "data": {
            "image/png": "[encoded data removed]",
            "text/plain": [
              "<Figure size 432x288 with 1 Axes>"
            ]
          },
          "metadata": {
            "tags": [],
            "needs_background": "light"
          }
        }
      ]
    },
    {
      "cell_type": "code",
      "metadata": {
        "colab": {
          "base_uri": "https://localhost:8080/"
        },
        "id": "lHNnqa1oLjqR",
        "outputId": "dde1ca90-7733-4d79-b5c4-eff67c9563ef"
      },
      "source": [
        "# Fitting a RandomForestRegressor using the 'best parameters' found below. It\n",
        "# still underperforms the simpler linear models\n",
        "\n",
        "rf_regressor = make_pipeline(\n",
        "    SimpleImputer(strategy = 'mean'),\n",
        "    StandardScaler(),\n",
        "    RandomForestRegressor(n_estimators = 173, min_samples_split = 5, min_samples_leaf = 1,\n",
        "                          max_features = 'auto', max_depth = 76.25, bootstrap = True))\n",
        "\n",
        "rf_regressor.fit(X_train, y_train)\n",
        "\n",
        "rf_predict = rf_regressor.predict(X_test)\n",
        "rf_MAE = mean_absolute_error(y_test, rf_predict)\n",
        "\n",
        "\n",
        "print(f'The r2_score for the RF regressor is {rf_regressor.score(X_test, y_test)}')\n",
        "print(f'The mean absolute error for the RF regressor is {rf_MAE}')"
      ],
      "execution_count": 39,
      "outputs": [
        {
          "output_type": "stream",
          "text": [
            "The r2_score for the RF regressor is 0.10320158603546792\n",
            "The mean absolute error for the RF regressor is 16.854813055225573\n"
          ],
          "name": "stdout"
        }
      ]
    },
    {
      "cell_type": "code",
      "metadata": {
        "id": "cDwnBBRWLmnV"
      },
      "source": [
        "# optimizing the rf regressor with gridsearch for the sake of practice/reps. isn't\n",
        "# likely to add value\n",
        "\n",
        "bootstrap = [True, False]\n",
        "n_estimators = [n for n in np.linspace(10,500, 10)]\n",
        "max_depth = [n for n in np.linspace(5,100, 5)]\n",
        "max_features = ['auto', 'sqrt']\n",
        "min_samples_split = [2,5,10]\n",
        "min_samples_leaf = [1,2,5]\n",
        "\n",
        "rf_grad = {\n",
        "    'randomforestregressor__bootstrap' : bootstrap,\n",
        "    'randomforestregressor__n_estimators' : n_estimators,\n",
        "    'randomforestregressor__max_depth' : max_depth,\n",
        "    'randomforestregressor__max_features' : max_features,\n",
        "    'randomforestregressor__min_samples_split' : min_samples_split,\n",
        "    'randomforestregressor__min_samples_leaf' : min_samples_leaf}\n",
        "\n",
        "\n",
        "rf_search = RandomizedSearchCV(rf_regressor, n_iter = 10, cv = 3, refit = False,\n",
        "                               verbose = 2, param_distributions = rf_grad)\n",
        "\n",
        "rf_search.fit(X_train, y_train)\n",
        "rf_search.best_params_"
      ],
      "execution_count": null,
      "outputs": []
    }
  ]
}